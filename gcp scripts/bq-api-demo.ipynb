{
 "cells": [
  {
   "cell_type": "code",
   "execution_count": 11,
   "metadata": {},
   "outputs": [
    {
     "ename": "ValueError",
     "evalue": "This method requires pyarrow to be installed",
     "output_type": "error",
     "traceback": [
      "\u001b[1;31m---------------------------------------------------------------------------\u001b[0m",
      "\u001b[1;31mValueError\u001b[0m                                Traceback (most recent call last)",
      "Cell \u001b[1;32mIn[11], line 37\u001b[0m\n\u001b[0;32m     15\u001b[0m \u001b[38;5;66;03m# Upload data to BigQuery\u001b[39;00m\n\u001b[0;32m     16\u001b[0m job_config \u001b[38;5;241m=\u001b[39m bigquery\u001b[38;5;241m.\u001b[39mLoadJobConfig(\n\u001b[0;32m     17\u001b[0m     schema\u001b[38;5;241m=\u001b[39m[\n\u001b[0;32m     18\u001b[0m         bigquery\u001b[38;5;241m.\u001b[39mSchemaField(\u001b[38;5;124m\"\u001b[39m\u001b[38;5;124mmatch_id\u001b[39m\u001b[38;5;124m\"\u001b[39m, \u001b[38;5;124m\"\u001b[39m\u001b[38;5;124mSTRING\u001b[39m\u001b[38;5;124m\"\u001b[39m),\n\u001b[1;32m   (...)\u001b[0m\n\u001b[0;32m     35\u001b[0m     ]\n\u001b[0;32m     36\u001b[0m )\n\u001b[1;32m---> 37\u001b[0m job \u001b[38;5;241m=\u001b[39m \u001b[43mclient\u001b[49m\u001b[38;5;241;43m.\u001b[39;49m\u001b[43mload_table_from_dataframe\u001b[49m\u001b[43m(\u001b[49m\u001b[43mdf\u001b[49m\u001b[43m,\u001b[49m\u001b[43m \u001b[49m\u001b[43mtable_ref\u001b[49m\u001b[43m,\u001b[49m\u001b[43m \u001b[49m\u001b[43mjob_config\u001b[49m\u001b[38;5;241;43m=\u001b[39;49m\u001b[43mjob_config\u001b[49m\u001b[43m)\u001b[49m\n\u001b[0;32m     38\u001b[0m job\u001b[38;5;241m.\u001b[39mresult()  \u001b[38;5;66;03m# Wait for the job to complete\u001b[39;00m\n\u001b[0;32m     40\u001b[0m \u001b[38;5;28mprint\u001b[39m(\u001b[38;5;124mf\u001b[39m\u001b[38;5;124m'\u001b[39m\u001b[38;5;124mLoaded \u001b[39m\u001b[38;5;132;01m{\u001b[39;00mjob\u001b[38;5;241m.\u001b[39moutput_rows\u001b[38;5;132;01m}\u001b[39;00m\u001b[38;5;124m rows into \u001b[39m\u001b[38;5;132;01m{\u001b[39;00mtable_id\u001b[38;5;132;01m}\u001b[39;00m\u001b[38;5;124m'\u001b[39m)\n",
      "File \u001b[1;32m~\\AppData\\Local\\Packages\\PythonSoftwareFoundation.Python.3.13_qbz5n2kfra8p0\\LocalCache\\local-packages\\Python313\\site-packages\\google\\cloud\\bigquery\\client.py:2752\u001b[0m, in \u001b[0;36mClient.load_table_from_dataframe\u001b[1;34m(self, dataframe, destination, num_retries, job_id, job_id_prefix, location, project, job_config, parquet_compression, timeout)\u001b[0m\n\u001b[0;32m   2744\u001b[0m     \u001b[38;5;28;01mraise\u001b[39;00m \u001b[38;5;167;01mValueError\u001b[39;00m(\n\u001b[0;32m   2745\u001b[0m         \u001b[38;5;124m\"\u001b[39m\u001b[38;5;124mGot unexpected source_format: \u001b[39m\u001b[38;5;124m'\u001b[39m\u001b[38;5;132;01m{}\u001b[39;00m\u001b[38;5;124m'\u001b[39m\u001b[38;5;124m. Currently, only PARQUET and CSV are supported\u001b[39m\u001b[38;5;124m\"\u001b[39m\u001b[38;5;241m.\u001b[39mformat(\n\u001b[0;32m   2746\u001b[0m             new_job_config\u001b[38;5;241m.\u001b[39msource_format\n\u001b[0;32m   2747\u001b[0m         )\n\u001b[0;32m   2748\u001b[0m     )\n\u001b[0;32m   2750\u001b[0m \u001b[38;5;28;01mif\u001b[39;00m pyarrow \u001b[38;5;129;01mis\u001b[39;00m \u001b[38;5;28;01mNone\u001b[39;00m \u001b[38;5;129;01mand\u001b[39;00m new_job_config\u001b[38;5;241m.\u001b[39msource_format \u001b[38;5;241m==\u001b[39m job\u001b[38;5;241m.\u001b[39mSourceFormat\u001b[38;5;241m.\u001b[39mPARQUET:\n\u001b[0;32m   2751\u001b[0m     \u001b[38;5;66;03m# pyarrow is now the only supported parquet engine.\u001b[39;00m\n\u001b[1;32m-> 2752\u001b[0m     \u001b[38;5;28;01mraise\u001b[39;00m \u001b[38;5;167;01mValueError\u001b[39;00m(\u001b[38;5;124m\"\u001b[39m\u001b[38;5;124mThis method requires pyarrow to be installed\u001b[39m\u001b[38;5;124m\"\u001b[39m)\n\u001b[0;32m   2754\u001b[0m \u001b[38;5;28;01mif\u001b[39;00m location \u001b[38;5;129;01mis\u001b[39;00m \u001b[38;5;28;01mNone\u001b[39;00m:\n\u001b[0;32m   2755\u001b[0m     location \u001b[38;5;241m=\u001b[39m \u001b[38;5;28mself\u001b[39m\u001b[38;5;241m.\u001b[39mlocation\n",
      "\u001b[1;31mValueError\u001b[0m: This method requires pyarrow to be installed"
     ]
    }
   ],
   "source": [
    "from google.cloud import bigquery\n",
    "import pandas as pd # type: ignore\n",
    "\n",
    "# Initialize a client\n",
    "client = bigquery.Client()\n",
    "\n",
    "# Define the dataset and table\n",
    "dataset_id = 'bq_demo_dataset'\n",
    "table_id = 'deliveries'\n",
    "table_ref = client.dataset(dataset_id).table(table_id)\n",
    "\n",
    "# Load data from a CSV file\n",
    "df = pd.read_csv(r'C:\\Users\\venka\\deliveries.csv')\n",
    "\n",
    "# Upload data to BigQuery\n",
    "job_config = bigquery.LoadJobConfig(\n",
    "    schema=[\n",
    "        bigquery.SchemaField(\"match_id\", \"STRING\"),\n",
    "        bigquery.SchemaField(\"inning\", \"STRING\"),\n",
    "        bigquery.SchemaField(\"batting_team\", \"STRING\"),\n",
    "        bigquery.SchemaField(\"bowling_team\", \"STRING\"),\n",
    "        bigquery.SchemaField(\"over_val\", \"STRING\"),\n",
    "        bigquery.SchemaField(\"ball\", \"STRING\"),\n",
    "        bigquery.SchemaField(\"batter\", \"STRING\"),\n",
    "        bigquery.SchemaField(\"bowler\", \"STRING\"),\n",
    "        bigquery.SchemaField(\"non_striker\", \"STRING\"),\n",
    "        bigquery.SchemaField(\"batsman_runs\", \"STRING\"),\n",
    "        bigquery.SchemaField(\"extra_runs\", \"STRING\"),\n",
    "        bigquery.SchemaField(\"total_runs\", \"STRING\"),\n",
    "        bigquery.SchemaField(\"extras_type\", \"STRING\"),\n",
    "        bigquery.SchemaField(\"is_wicket\", \"STRING\"),\n",
    "        bigquery.SchemaField(\"player_dismissed\", \"STRING\"),\n",
    "        bigquery.SchemaField(\"dismissal_kind\", \"STRING\"),\t\t\n",
    "        bigquery.SchemaField(\"fielder\", \"STRING\"),\n",
    "    ]\n",
    ")\n",
    "job = client.load_table_from_dataframe(df, table_ref, job_config=job_config)\n",
    "job.result()  # Wait for the job to complete\n",
    "\n",
    "print(f'Loaded {job.output_rows} rows into {table_id}')\n"
   ]
  }
 ],
 "metadata": {
  "kernelspec": {
   "display_name": "Python 3",
   "language": "python",
   "name": "python3"
  },
  "language_info": {
   "codemirror_mode": {
    "name": "ipython",
    "version": 3
   },
   "file_extension": ".py",
   "mimetype": "text/x-python",
   "name": "python",
   "nbconvert_exporter": "python",
   "pygments_lexer": "ipython3",
   "version": "3.13.1"
  }
 },
 "nbformat": 4,
 "nbformat_minor": 2
}
