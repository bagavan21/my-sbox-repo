{
 "cells": [
  {
   "cell_type": "code",
   "execution_count": null,
   "metadata": {},
   "outputs": [],
   "source": [
    "from google.cloud import bigquery\n",
    "import pandas as pd\n",
    "\n",
    "# Initialize a client\n",
    "client = bigquery.Client()\n",
    "\n",
    "# Define the dataset and table\n",
    "dataset_id = 'your_dataset_id'\n",
    "table_id = 'your_table_id'\n",
    "table_ref = client.dataset(dataset_id).table(table_id)\n",
    "\n",
    "# Load data from a CSV file\n",
    "df = pd.read_csv('path/to/your/file.csv')\n",
    "\n",
    "# Upload data to BigQuery\n",
    "job_config = bigquery.LoadJobConfig(\n",
    "    schema=[\n",
    "        bigquery.SchemaField(\"name\", \"STRING\"),\n",
    "        bigquery.SchemaField(\"age\", \"INTEGER\"),\n",
    "    ]\n",
    ")\n",
    "job = client.load_table_from_dataframe(df, table_ref, job_config=job_config)\n",
    "job.result()  # Wait for the job to complete\n",
    "\n",
    "print(f'Loaded {job.output_rows} rows into {table_id}')\n"
   ]
  }
 ],
 "metadata": {
  "language_info": {
   "name": "python"
  }
 },
 "nbformat": 4,
 "nbformat_minor": 2
}
