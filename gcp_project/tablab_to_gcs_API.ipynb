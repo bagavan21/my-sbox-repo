{
 "cells": [
  {
   "cell_type": "code",
   "execution_count": null,
   "metadata": {},
   "outputs": [],
   "source": [
    "import requests\n",
    "from google.cloud import storage, bigquery\n",
    "\n",
    "# Initialize Google Cloud Storage client\n",
    "storage_client = storage.Client()\n",
    "bigquery_client = bigquery.Client()\n",
    "\n",
    "# Define the GCS bucket and file details\n",
    "bucket_name = 'your-bucket-name'\n",
    "file_name = 'your-file-name.json'\n",
    "\n",
    "# Fetch data from Tablab API\n",
    "response = requests.get('TABLAB_API_ENDPOINT')\n",
    "data = response.json()\n",
    "\n",
    "# Upload data to GCS\n",
    "bucket = storage_client.bucket(bucket_name)\n",
    "blob = bucket.blob(file_name)\n",
    "blob.upload_from_string(json.dumps(data), 'application/json')\n",
    "\n",
    "# Load data from GCS to BigQuery\n",
    "job_config = bigquery.LoadJobConfig()\n",
    "job_config.source_format = bigquery.SourceFormat.NEWLINE_DELIMITED_JSON\n",
    "uri = f'gs://{bucket_name}/{file_name}'\n",
    "load_job = bigquery_client.load_table_from_uri(uri, 'your-dataset-id.your-table-id', job_config=job_config)\n",
    "load_job.result()  # Wait for the load job to complete\n"
   ]
  }
 ],
 "metadata": {
  "kernelspec": {
   "display_name": "Python 3",
   "language": "python",
   "name": "python3"
  },
  "language_info": {
   "name": "python",
   "version": "3.13.2"
  }
 },
 "nbformat": 4,
 "nbformat_minor": 2
}
