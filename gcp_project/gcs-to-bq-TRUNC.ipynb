{
 "cells": [
  {
   "cell_type": "code",
   "execution_count": 1,
   "metadata": {},
   "outputs": [
    {
     "name": "stdout",
     "output_type": "stream",
     "text": [
      "Loaded 260920 rows into bq_demo_dataset.deliveries.\n"
     ]
    }
   ],
   "source": [
    "from google.cloud import bigquery\n",
    "\n",
    "# Initialize BigQuery client\n",
    "client = bigquery.Client()\n",
    "\n",
    "# GCP project ID, dataset ID, and table ID\n",
    "project_id = 'custom-autumn-449504-f9'\n",
    "dataset_id = 'bq_demo_dataset'\n",
    "table_id = 'deliveries'\n",
    "\n",
    "# Create a TableReference with the project ID, dataset ID, and table ID\n",
    "table_ref = bigquery.TableReference.from_string(f'{project_id}.{dataset_id}.{table_id}')\n",
    "\n",
    "# Define URI for the CSV file in GCS\n",
    "uri = 'gs://demoproject-1/deliveries.csv'\n",
    "\n",
    "# Define the job configuration\n",
    "job_config = bigquery.LoadJobConfig(\n",
    "    source_format=bigquery.SourceFormat.CSV,\n",
    "    skip_leading_rows=1,\n",
    "    autodetect=True,\n",
    "    write_disposition=bigquery.WriteDisposition.WRITE_TRUNCATE  # Overwrite existing table\n",
    ")\n",
    "\n",
    "# Load the data from GCS to BigQuery\n",
    "load_job = client.load_table_from_uri(uri, table_ref, job_config=job_config)\n",
    "\n",
    "# Wait for the job to complete\n",
    "load_job.result()\n",
    "\n",
    "# Check the number of rows loaded\n",
    "table = client.get_table(table_ref)\n",
    "print(f'Loaded {table.num_rows} rows into {dataset_id}.{table_id}.')\n"
   ]
  }
 ],
 "metadata": {
  "kernelspec": {
   "display_name": "Python 3",
   "language": "python",
   "name": "python3"
  },
  "language_info": {
   "codemirror_mode": {
    "name": "ipython",
    "version": 3
   },
   "file_extension": ".py",
   "mimetype": "text/x-python",
   "name": "python",
   "nbconvert_exporter": "python",
   "pygments_lexer": "ipython3",
   "version": "3.13.2"
  }
 },
 "nbformat": 4,
 "nbformat_minor": 2
}
