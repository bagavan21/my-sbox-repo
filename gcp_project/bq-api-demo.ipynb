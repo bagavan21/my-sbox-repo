{
 "cells": [
  {
   "cell_type": "code",
   "execution_count": 4,
   "metadata": {},
   "outputs": [
    {
     "name": "stdout",
     "output_type": "stream",
     "text": [
      "Loaded 260920 rows into deliveries\n"
     ]
    }
   ],
   "source": [
    "from google.cloud import bigquery\n",
    "import pandas as pd # type: ignore\n",
    "\n",
    "# Initialize a client\n",
    "client = bigquery.Client()\n",
    "\n",
    "# Define the dataset and table\n",
    "dataset_id = 'bq_demo_dataset'\n",
    "table_id = 'deliveries'\n",
    "table_ref = client.dataset(dataset_id).table(table_id)\n",
    "\n",
    "# Load data from a CSV file\n",
    "df = pd.read_csv(r'C:\\Users\\venka\\deliveries.csv')\n",
    "\n",
    "# Upload data to BigQuery\n",
    "job_config = bigquery.LoadJobConfig(\n",
    "    schema=[\n",
    "        bigquery.SchemaField(\"match_id\", \"INT64\"),\n",
    "        bigquery.SchemaField(\"inning\", \"INT64\"),\n",
    "        bigquery.SchemaField(\"batting_team\", \"STRING\"),\n",
    "        bigquery.SchemaField(\"bowling_team\", \"STRING\"),\n",
    "        bigquery.SchemaField(\"overs\", \"INT64\"),\n",
    "        bigquery.SchemaField(\"ball\", \"INT64\"),\n",
    "        bigquery.SchemaField(\"batter\", \"STRING\"),\n",
    "        bigquery.SchemaField(\"bowler\", \"STRING\"),\n",
    "        bigquery.SchemaField(\"non_striker\", \"STRING\"),\n",
    "        bigquery.SchemaField(\"batsman_runs\", \"INT64\"),\n",
    "        bigquery.SchemaField(\"extra_runs\", \"INT64\"),\n",
    "        bigquery.SchemaField(\"total_runs\", \"INT64\"),\n",
    "        bigquery.SchemaField(\"extras_type\", \"STRING\"),\n",
    "        bigquery.SchemaField(\"is_wicket\", \"INT64\"),\n",
    "        bigquery.SchemaField(\"player_dismissed\", \"STRING\"),\n",
    "        bigquery.SchemaField(\"dismissal_kind\", \"STRING\"),\t\t\n",
    "        bigquery.SchemaField(\"fielder\", \"STRING\"),\n",
    "    ]\n",
    ")\n",
    "job = client.load_table_from_dataframe(df, table_ref, job_config=job_config)\n",
    "job.result()  # Wait for the job to complete\n",
    "\n",
    "print(f'Loaded {job.output_rows} rows into {table_id}')\n"
   ]
  }
 ],
 "metadata": {
  "kernelspec": {
   "display_name": "Python 3",
   "language": "python",
   "name": "python3"
  },
  "language_info": {
   "codemirror_mode": {
    "name": "ipython",
    "version": 3
   },
   "file_extension": ".py",
   "mimetype": "text/x-python",
   "name": "python",
   "nbconvert_exporter": "python",
   "pygments_lexer": "ipython3",
   "version": "3.13.2"
  }
 },
 "nbformat": 4,
 "nbformat_minor": 2
}
