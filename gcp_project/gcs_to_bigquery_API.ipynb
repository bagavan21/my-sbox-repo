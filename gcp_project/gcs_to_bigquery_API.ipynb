{
 "cells": [
  {
   "cell_type": "code",
   "execution_count": null,
   "metadata": {},
   "outputs": [],
   "source": [
    "from google.cloud import bigquery\n",
    "from google.cloud import storage \n",
    "import json\n",
    "\n",
    "# Initialize BigQuery client\n",
    "bq_client = bigquery.Client()\n",
    "\n",
    "# Define dataset and table\n",
    "dataset_id = 'bq_json_dataset'\n",
    "table_id = 'banksdata'\n",
    "\n",
    "# Define the GCS file path\n",
    "gcs_file_path = 'gs://demoproject-1/banksdata.json'\n",
    "\n",
    "# Configure the load job\n",
    "job_config = bigquery.LoadJobConfig(\n",
    "    source_format=bigquery.SourceFormat.NEWLINE_DELIMITED_JSON,\n",
    "    autodetect=True,\n",
    ")\n",
    "\n",
    "# Load the data from GCS to BigQuery\n",
    "load_job = bq_client.load_table_from_uri(\n",
    "    gcs_file_path,\n",
    "    f'{dataset_id}.{table_id}',\n",
    "    job_config=job_config\n",
    ")\n",
    "\n",
    "# Wait for the load job to complete\n",
    "load_job.result()\n",
    "print(f'Loaded {load_job.output_rows} rows into {dataset_id}:{table_id}.')"
   ]
  }
 ],
 "metadata": {
  "kernelspec": {
   "display_name": "Python 3",
   "language": "python",
   "name": "python3"
  },
  "language_info": {
   "codemirror_mode": {
    "name": "ipython",
    "version": 3
   },
   "file_extension": ".py",
   "mimetype": "text/x-python",
   "name": "python",
   "nbconvert_exporter": "python",
   "pygments_lexer": "ipython3",
   "version": "3.13.2"
  }
 },
 "nbformat": 4,
 "nbformat_minor": 2
}
