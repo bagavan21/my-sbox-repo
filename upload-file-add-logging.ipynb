{
 "cells": [
  {
   "cell_type": "code",
   "execution_count": 11,
   "metadata": {},
   "outputs": [],
   "source": [
    "import logging\n",
    "import os\n",
    "from google.cloud import storage\n",
    "import google.cloud.logging\n",
    "from google.cloud.logging import Client as LoggingClient\n",
    "\n",
    "storage_client = storage.Client(project='custom-autumn-449504-f9') #GCP project ID\n",
    "\n",
    "# Initialize Google Cloud Logging client\n",
    "logging_client = LoggingClient()\n",
    "logging_client.setup_logging()\n",
    "\n",
    "# Configure logging settings\n",
    "logging.basicConfig(\n",
    "    level=logging.INFO,\n",
    "    format='%(asctime)s - %(name)s - %(levelname)s - %(message)s',\n",
    "    handlers=[\n",
    "        google.cloud.logging.handlers.CloudLoggingHandler(logging_client),\n",
    "        logging.StreamHandler()\n",
    "    ]\n",
    ")\n",
    "\n",
    "logger = logging.getLogger(__name__)\n",
    "\n",
    "def upload_file(bucket_name, file_path):\n",
    "    logger.info(f'Starting upload of {file_path} to bucket {bucket_name}')\n",
    "    client = storage.Client.from_service_account_json(r'C:\\Users\\venka\\Downloads\\custom-autumn-449504-f9-5528b2adf2fe.json')\n",
    "    bucket = client.bucket(bucket_name)\n",
    "    file_name = os.path.basename(file_path)\n",
    "\n",
    "    blob = bucket.blob(file_name)\n",
    "    blob.upload_from_filename(file_path)\n",
    "    logger.info(f'Successfully uploaded {file_path} to {bucket_name}')\n",
    "\n",
    "bucket_name = 'demoproject-1'\n",
    "file_path = r'C:\\Users\\venka\\matches.csv'\n",
    "\n",
    "upload_file(bucket_name, file_path)\n"
   ]
  }
 ],
 "metadata": {
  "kernelspec": {
   "display_name": "Python 3",
   "language": "python",
   "name": "python3"
  },
  "language_info": {
   "codemirror_mode": {
    "name": "ipython",
    "version": 3
   },
   "file_extension": ".py",
   "mimetype": "text/x-python",
   "name": "python",
   "nbconvert_exporter": "python",
   "pygments_lexer": "ipython3",
   "version": "3.13.1"
  }
 },
 "nbformat": 4,
 "nbformat_minor": 2
}
