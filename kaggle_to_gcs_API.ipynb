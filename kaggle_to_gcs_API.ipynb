{
 "cells": [
  {
   "cell_type": "code",
   "execution_count": 11,
   "metadata": {},
   "outputs": [
    {
     "name": "stdout",
     "output_type": "stream",
     "text": [
      "Dataset URL: https://www.kaggle.com/datasets/iamramzanai/top-100-largest-banks\n",
      "Data uploaded to demoproject-1/banksdata.json\n"
     ]
    }
   ],
   "source": [
    "import kaggle\n",
    "import kagglehub\n",
    "from google.cloud import storage\n",
    "\n",
    "# Authenticate the Kaggle API\n",
    "kaggle.api.authenticate()\n",
    "\n",
    "# Define Kaggle dataset and file\n",
    "dataset_name = 'iamramzanai/top-100-largest-banks'\n",
    "file_name = 'banksdata.json'\n",
    "\n",
    "# Download the dataset from Kaggle\n",
    "path = kagglehub.dataset_download(\"iamramzanai/top-100-largest-banks\")\n",
    "kaggle.api.dataset_download_files(dataset_name, path='./', unzip=True)\n",
    "\n",
    "# Initialize Google Cloud Storage client\n",
    "client = storage.Client()\n",
    "\n",
    "# Define the bucket and object name in GCS\n",
    "bucket_name = 'demoproject-1'\n",
    "bucket = client.bucket(bucket_name)\n",
    "blob = bucket.blob(file_name)\n",
    "\n",
    "# Upload file to GCS\n",
    "blob.upload_from_filename(f'./{file_name}')\n",
    "\n",
    "print(f'Data uploaded to {bucket_name}/{file_name}')"
   ]
  }
 ],
 "metadata": {
  "kernelspec": {
   "display_name": "Python 3",
   "language": "python",
   "name": "python3"
  },
  "language_info": {
   "codemirror_mode": {
    "name": "ipython",
    "version": 3
   },
   "file_extension": ".py",
   "mimetype": "text/x-python",
   "name": "python",
   "nbconvert_exporter": "python",
   "pygments_lexer": "ipython3",
   "version": "3.13.1"
  }
 },
 "nbformat": 4,
 "nbformat_minor": 2
}
