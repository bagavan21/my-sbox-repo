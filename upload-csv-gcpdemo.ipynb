{
 "cells": [
  {
   "cell_type": "code",
   "execution_count": 2,
   "metadata": {},
   "outputs": [
    {
     "name": "stdout",
     "output_type": "stream",
     "text": [
      "Uploaded deliveries.csv to demoproject-1\n"
     ]
    }
   ],
   "source": [
    "import os \n",
    "from google.cloud import storage\n",
    "\n",
    "storage_client = storage.Client(project='custom-autumn-449504-f9') #GCP project ID\n",
    "\n",
    "#function to create gcs bucket\n",
    "#def create_bucket(bucket_name):\n",
    "#    bucket = storage_client.create_bucket(bucket_name)\n",
    "\n",
    "def upload_file(bucket_name, file_path):\n",
    "    # Initialize GCS client\n",
    "    client = storage.Client.from_service_account_json(r'C:\\Users\\venka\\Downloads\\custom-autumn-449504-f9-5528b2adf2fe.json')\n",
    "    bucket = client.bucket(bucket_name)\n",
    "    file_name = os.path.basename(file_path)\n",
    "    \n",
    "    # Upload file to GCS\n",
    "    blob = bucket.blob(file_name)\n",
    "    blob.upload_from_filename(file_path)\n",
    "    print(f'Uploaded deliveries.csv to {bucket_name}')\n",
    "\n",
    "    # Define bucket name and file path\n",
    "bucket_name = 'demoproject-1'\n",
    "file_path = r'C:\\Users\\venka\\deliveries.csv'\n",
    "\n",
    "# Call upload function to place the file in GCS\n",
    "upload_file(bucket_name, file_path)"
   ]
  }
 ],
 "metadata": {
  "kernelspec": {
   "display_name": "Python 3",
   "language": "python",
   "name": "python3"
  },
  "language_info": {
   "codemirror_mode": {
    "name": "ipython",
    "version": 3
   },
   "file_extension": ".py",
   "mimetype": "text/x-python",
   "name": "python",
   "nbconvert_exporter": "python",
   "pygments_lexer": "ipython3",
   "version": "3.13.1"
  }
 },
 "nbformat": 4,
 "nbformat_minor": 2
}
