{
 "cells": [
  {
   "cell_type": "code",
   "execution_count": null,
   "id": "3103b9d1",
   "metadata": {},
   "outputs": [
    {
     "name": "stdout",
     "output_type": "stream",
     "text": [
      "    Name         City    Event        Date  Salary  Age\n",
      "0  Alice     New York  Concert  2023-10-01   50000   25\n",
      "1    Bob  Los Angeles   Sports  2023-10-02   60000   30\n",
      "2  Alice     New York  Concert  2023-10-01   50000   25\n",
      "3    Eve      Chicago  Theatre  2023-10-03   70000   35\n",
      "4    Bob  Los Angeles   Sports  2023-10-02   60000   30\n",
      "5    Eve      Chicago  Theatre  2023-10-03   70000   35\n",
      "6    Red     St.louis   Office  2023-10-04   80000   40\n"
     ]
    }
   ],
   "source": [
    "import pandas as pd\n",
    "\n",
    "# Sample DataFrame\n",
    "data = {\n",
    "    'Name': ['Alice', 'Bob', 'Alice', 'Eve', 'Bob', 'Eve','Red'],\n",
    "    'City': ['New York', 'Los Angeles', 'New York', 'Chicago', 'Los Angeles', 'Chicago','St.louis'],\n",
    "    'Event': ['Concert', 'Sports', 'Concert', 'Theatre', 'Sports', 'Theatre','Office'],\n",
    "    'Date': ['2023-10-01', '2023-10-02', '2023-10-01', '2023-10-03', '2023-10-02', '2023-10-03','2023-10-04'],\n",
    "    'Salary': [50000, 60000, 50000, 70000, 60000, 70000,80000],\n",
    "    'Age': [25, 30, 25, 35, 30, 35, 40]\n",
    "}\n",
    "df = pd.DataFrame(data)\n",
    "\n",
    "# Detect duplicates\n",
    "#duplicates = df.duplicated()\n",
    "print(df)\n"
   ]
  },
  {
   "cell_type": "code",
   "execution_count": 12,
   "id": "4168008c",
   "metadata": {},
   "outputs": [
    {
     "name": "stdout",
     "output_type": "stream",
     "text": [
      "Math       84.333333\n",
      "Physics    88.000000\n",
      "dtype: float64\n"
     ]
    }
   ],
   "source": [
    "import pandas as pd\n",
    "\n",
    "# Sample DataFrame\n",
    "data = {\n",
    "    'Math': [85, 90, 78],\n",
    "    'Physics': [92, 88, 84]\n",
    "}\n",
    "df = pd.DataFrame(data)\n",
    "\n",
    "# Compute mean of each column\n",
    "column_means = df.mean()\n",
    "print(column_means)\n"
   ]
  },
  {
   "cell_type": "code",
   "execution_count": 14,
   "id": "979b729d",
   "metadata": {},
   "outputs": [
    {
     "name": "stdout",
     "output_type": "stream",
     "text": [
      "3\n"
     ]
    }
   ],
   "source": [
    "tuple1 = (1, 2, 3)\n",
    "print(tuple1[2])  # Accessing the first element of the tuple"
   ]
  }
 ],
 "metadata": {
  "kernelspec": {
   "display_name": "Python 3",
   "language": "python",
   "name": "python3"
  },
  "language_info": {
   "codemirror_mode": {
    "name": "ipython",
    "version": 3
   },
   "file_extension": ".py",
   "mimetype": "text/x-python",
   "name": "python",
   "nbconvert_exporter": "python",
   "pygments_lexer": "ipython3",
   "version": "3.10.11"
  }
 },
 "nbformat": 4,
 "nbformat_minor": 5
}
