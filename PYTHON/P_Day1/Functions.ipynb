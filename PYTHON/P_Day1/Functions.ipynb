{
 "cells": [
  {
   "cell_type": "markdown",
   "id": "5ce1079b",
   "metadata": {},
   "source": [
    "# Functions"
   ]
  },
  {
   "cell_type": "code",
   "execution_count": 10,
   "id": "6353af1d",
   "metadata": {},
   "outputs": [
    {
     "name": "stdout",
     "output_type": "stream",
     "text": [
      "Welcome to Coddy\n",
      "New session...\n",
      "Welcome to Coddy\n",
      "Another session...\n",
      "Welcome to Coddy\n"
     ]
    }
   ],
   "source": [
    "def greet():\n",
    "    print(\"Welcome to Coddy\")\n",
    "\n",
    "greet()\n",
    "print(\"New session...\")\n",
    "greet()\n",
    "print(\"Another session...\")\n",
    "greet()"
   ]
  },
  {
   "cell_type": "code",
   "execution_count": 11,
   "id": "97847bda",
   "metadata": {},
   "outputs": [
    {
     "name": "stdout",
     "output_type": "stream",
     "text": [
      "The sum of numbers from 1 to 10000 is: 50005000\n",
      "The sum of numbers from 1 to 10000 is: 50005000\n",
      "The sum of numbers from 1 to 10000 is: 50005000\n",
      "The sum of numbers from 1 to 10000 is: 50005000\n",
      "The sum of numbers from 1 to 10000 is: 50005000\n"
     ]
    }
   ],
   "source": [
    "# Write a program that gets one input, a number. \n",
    "# The input number indicates how many times to execute the below function. \n",
    "\n",
    "# Create a function that calculates the sum of all of the numbers between 1 and 10000 (including)\n",
    "# and prints it, name the function however you like.\n",
    "def calculate_sum():\n",
    "    for i in range(5):\n",
    "        total = sum(range(1, 10001))\n",
    "        print(f\"The sum of numbers from 1 to 10000 is: {total}\")\n",
    "calculate_sum()"
   ]
  },
  {
   "cell_type": "code",
   "execution_count": 12,
   "id": "28f9e985",
   "metadata": {},
   "outputs": [
    {
     "name": "stdout",
     "output_type": "stream",
     "text": [
      "Sum from 1 to 10000: 50005000\n",
      "Sum from 1 to 10000: 50005000\n",
      "Sum from 1 to 10000: 50005000\n",
      "Sum from 1 to 10000: 50005000\n",
      "Sum from 1 to 10000: 50005000\n",
      "Sum from 1 to 10000: 50005000\n",
      "Sum from 1 to 10000: 50005000\n",
      "Sum from 1 to 10000: 50005000\n"
     ]
    }
   ],
   "source": [
    "# Function to calculate and print the sum from 1 to 10000\n",
    "def calculate_sum():\n",
    "    total = sum(range(1, 10001))\n",
    "    print(\"Sum from 1 to 10000:\", total)\n",
    "\n",
    "# Get the number of times to run the function\n",
    "times = int(input(\"Enter how many times to run the function: \"))\n",
    "\n",
    "# Execute the function 'times' times\n",
    "for _ in range(times):\n",
    "    calculate_sum()\n"
   ]
  },
  {
   "cell_type": "code",
   "execution_count": 13,
   "id": "d9388ae8",
   "metadata": {},
   "outputs": [
    {
     "name": "stdout",
     "output_type": "stream",
     "text": [
      "64\n"
     ]
    }
   ],
   "source": [
    "# define input variables\n",
    "arg1 = int(input())\n",
    "arg2 = int(input())\n",
    "\n",
    "#function to sum the products\n",
    "def product_sum(arg1,arg2):\n",
    "    total = arg1 * arg2\n",
    "    print(total)\n",
    "\n",
    "# call function\n",
    "product_sum(arg1,arg2)"
   ]
  },
  {
   "cell_type": "code",
   "execution_count": 14,
   "id": "1d91bf78",
   "metadata": {},
   "outputs": [
    {
     "name": "stdout",
     "output_type": "stream",
     "text": [
      "64\n"
     ]
    }
   ],
   "source": [
    "def sequence(n):\n",
    "    return n * n\n",
    "\n",
    "n = int(input())\n",
    "\n",
    "result = sequence(n)\n",
    "print(result)    "
   ]
  }
 ],
 "metadata": {
  "kernelspec": {
   "display_name": "Python 3",
   "language": "python",
   "name": "python3"
  },
  "language_info": {
   "codemirror_mode": {
    "name": "ipython",
    "version": 3
   },
   "file_extension": ".py",
   "mimetype": "text/x-python",
   "name": "python",
   "nbconvert_exporter": "python",
   "pygments_lexer": "ipython3",
   "version": "3.10.11"
  }
 },
 "nbformat": 4,
 "nbformat_minor": 5
}
