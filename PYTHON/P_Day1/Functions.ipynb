{
 "cells": [
  {
   "cell_type": "markdown",
   "id": "5ce1079b",
   "metadata": {},
   "source": [
    "# Functions"
   ]
  },
  {
   "cell_type": "code",
   "execution_count": 10,
   "id": "6353af1d",
   "metadata": {},
   "outputs": [
    {
     "name": "stdout",
     "output_type": "stream",
     "text": [
      "Welcome to Coddy\n",
      "New session...\n",
      "Welcome to Coddy\n",
      "Another session...\n",
      "Welcome to Coddy\n"
     ]
    }
   ],
   "source": [
    "def greet():\n",
    "    print(\"Welcome to Coddy\")\n",
    "\n",
    "greet()\n",
    "print(\"New session...\")\n",
    "greet()\n",
    "print(\"Another session...\")\n",
    "greet()"
   ]
  },
  {
   "cell_type": "code",
   "execution_count": 11,
   "id": "97847bda",
   "metadata": {},
   "outputs": [
    {
     "name": "stdout",
     "output_type": "stream",
     "text": [
      "The sum of numbers from 1 to 10000 is: 50005000\n",
      "The sum of numbers from 1 to 10000 is: 50005000\n",
      "The sum of numbers from 1 to 10000 is: 50005000\n",
      "The sum of numbers from 1 to 10000 is: 50005000\n",
      "The sum of numbers from 1 to 10000 is: 50005000\n"
     ]
    }
   ],
   "source": [
    "# Write a program that gets one input, a number. \n",
    "# The input number indicates how many times to execute the below function. \n",
    "\n",
    "# Create a function that calculates the sum of all of the numbers between 1 and 10000 (including)\n",
    "# and prints it, name the function however you like.\n",
    "def calculate_sum():\n",
    "    for i in range(5):\n",
    "        total = sum(range(1, 10001))\n",
    "        print(f\"The sum of numbers from 1 to 10000 is: {total}\")\n",
    "calculate_sum()"
   ]
  },
  {
   "cell_type": "code",
   "execution_count": 12,
   "id": "28f9e985",
   "metadata": {},
   "outputs": [
    {
     "name": "stdout",
     "output_type": "stream",
     "text": [
      "Sum from 1 to 10000: 50005000\n",
      "Sum from 1 to 10000: 50005000\n",
      "Sum from 1 to 10000: 50005000\n",
      "Sum from 1 to 10000: 50005000\n",
      "Sum from 1 to 10000: 50005000\n",
      "Sum from 1 to 10000: 50005000\n",
      "Sum from 1 to 10000: 50005000\n",
      "Sum from 1 to 10000: 50005000\n"
     ]
    }
   ],
   "source": [
    "# Function to calculate and print the sum from 1 to 10000\n",
    "def calculate_sum():\n",
    "    total = sum(range(1, 10001))\n",
    "    print(\"Sum from 1 to 10000:\", total)\n",
    "\n",
    "# Get the number of times to run the function\n",
    "times = int(input(\"Enter how many times to run the function: \"))\n",
    "\n",
    "# Execute the function 'times' times\n",
    "for _ in range(times):\n",
    "    calculate_sum()\n"
   ]
  },
  {
   "cell_type": "code",
   "execution_count": 13,
   "id": "d9388ae8",
   "metadata": {},
   "outputs": [
    {
     "name": "stdout",
     "output_type": "stream",
     "text": [
      "64\n"
     ]
    }
   ],
   "source": [
    "# define input variables\n",
    "arg1 = int(input())\n",
    "arg2 = int(input())\n",
    "\n",
    "#function to sum the products\n",
    "def product_sum(arg1,arg2):\n",
    "    total = arg1 * arg2\n",
    "    print(total)\n",
    "\n",
    "# call function\n",
    "product_sum(arg1,arg2)"
   ]
  },
  {
   "cell_type": "code",
   "execution_count": 14,
   "id": "1d91bf78",
   "metadata": {},
   "outputs": [
    {
     "name": "stdout",
     "output_type": "stream",
     "text": [
      "64\n"
     ]
    }
   ],
   "source": [
    "def sequence(n):\n",
    "    return n * n\n",
    "\n",
    "n = int(input())\n",
    "\n",
    "result = sequence(n)\n",
    "print(result)    "
   ]
  },
  {
   "cell_type": "code",
   "execution_count": 24,
   "id": "5864f30d",
   "metadata": {},
   "outputs": [
    {
     "name": "stdout",
     "output_type": "stream",
     "text": [
      "15\n"
     ]
    }
   ],
   "source": [
    "# function to calculate the sum of n and i\n",
    "def sigma(n):\n",
    "    num = 0\n",
    "    for i in range(1, n + 1):\n",
    "        num += i\n",
    "    return num\n",
    "    \n",
    "# get input\n",
    "n = int(input())\n",
    "# call function\n",
    "result = sigma(n)\n",
    "print(result)"
   ]
  },
  {
   "cell_type": "code",
   "execution_count": 33,
   "id": "74ba140f",
   "metadata": {},
   "outputs": [
    {
     "name": "stdout",
     "output_type": "stream",
     "text": [
      "24\n",
      "24\n"
     ]
    }
   ],
   "source": [
    "def multiplication(a,b):\n",
    "    result = 1\n",
    "    # calculate the product of numbers from a to b\n",
    "    # using a for loop\n",
    "    for i in range(a, b):\n",
    "        result *= i \n",
    "    # return the result\n",
    "    # print the result\n",
    "    print(result)\n",
    "    return result\n",
    "# get input\n",
    "a = int(input())\n",
    "b = int(input())\n",
    "# call function\n",
    "result = multiplication(a,b)\n",
    "print(result)"
   ]
  },
  {
   "cell_type": "code",
   "execution_count": null,
   "id": "70725f35",
   "metadata": {},
   "outputs": [],
   "source": [
    "def is_valid(username, password):\n",
    "    # Write code here\n",
    "    if username == \"admin\":\n",
    "        return True\n",
    "    elif: username == \"user\" and password == \"qweasd\":\n",
    "        return True\n",
    "    else:\n",
    "        return False\n",
    "\n",
    "print(is_valid)"
   ]
  },
  {
   "cell_type": "code",
   "execution_count": null,
   "id": "2a9dd0f4",
   "metadata": {},
   "outputs": [
    {
     "name": "stdout",
     "output_type": "stream",
     "text": [
      "Welcome to FizzBuzz!\n",
      "1\n",
      "2\n",
      "Fizz\n",
      "Almost Fizz\n"
     ]
    },
    {
     "ename": "",
     "evalue": "",
     "output_type": "error",
     "traceback": [
      "\u001b[1;31mThe Kernel crashed while executing code in the current cell or a previous cell. \n",
      "\u001b[1;31mPlease review the code in the cell(s) to identify a possible cause of the failure. \n",
      "\u001b[1;31mClick <a href='https://aka.ms/vscodeJupyterKernelCrash'>here</a> for more info. \n",
      "\u001b[1;31mView Jupyter <a href='command:jupyter.viewOutput'>log</a> for further details."
     ]
    }
   ],
   "source": [
    "# Loop over the numbers from 1 to the number that the user entered\n",
    "# and print the numbers that are divisible by 3 or 7\n",
    "\n",
    "\n",
    "print(\"Welcome to FizzBuzz!\")\n",
    "\n",
    "def fizzbuzz(number):\n",
    "    result = \"\"\n",
    "    if number % 3 == 0:\n",
    "        result += \"Fizz\"\n",
    "    if number % 7 == 0:\n",
    "        result += \"Buzz\"\n",
    "    if result == \"\":\n",
    "        result = str(number)\n",
    "    return result\n",
    "\n",
    "limit = int(input())\n",
    "\n",
    "#play FizzBuzz\n",
    "for i in range(1, limit + 1):\n",
    "    print(fizzbuzz(i))\n",
    "\n",
    "# Function to check if a number is prime\n",
    "if \"3\" in str(limit) and (i % 3 != 0 or i % 7 != 0):\n",
    "        print(\"Almost Fizz\")"
   ]
  }
 ],
 "metadata": {
  "kernelspec": {
   "display_name": "Python 3",
   "language": "python",
   "name": "python3"
  },
  "language_info": {
   "codemirror_mode": {
    "name": "ipython",
    "version": 3
   },
   "file_extension": ".py",
   "mimetype": "text/x-python",
   "name": "python",
   "nbconvert_exporter": "python",
   "pygments_lexer": "ipython3",
   "version": "3.10.11"
  }
 },
 "nbformat": 4,
 "nbformat_minor": 5
}
