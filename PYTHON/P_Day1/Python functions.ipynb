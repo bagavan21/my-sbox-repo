{
 "cells": [
  {
   "cell_type": "markdown",
   "id": "c608156f",
   "metadata": {},
   "source": [
    "# Functions"
   ]
  },
  {
   "cell_type": "code",
   "execution_count": 3,
   "id": "c8a54afa",
   "metadata": {},
   "outputs": [
    {
     "name": "stdout",
     "output_type": "stream",
     "text": [
      "Howdy!\n",
      "Howdy!!!\n",
      "Hello there, Interesting world!\n"
     ]
    }
   ],
   "source": [
    "def hello():\n",
    "    print('Howdy!')\n",
    "    print('Howdy!!!')\n",
    "    print('Hello there, Interesting world!')\n",
    "\n",
    "hello()"
   ]
  },
  {
   "cell_type": "code",
   "execution_count": 4,
   "id": "fefc866c",
   "metadata": {},
   "outputs": [
    {
     "name": "stdout",
     "output_type": "stream",
     "text": [
      "The addition of a + b is 8\n"
     ]
    }
   ],
   "source": [
    "def add(a, b):\n",
    "    return a + b\n",
    "\n",
    "result = add(5, 3)\n",
    "print(\"The addition of a + b is\",result)"
   ]
  },
  {
   "cell_type": "code",
   "execution_count": 37,
   "id": "ed33d4b2",
   "metadata": {},
   "outputs": [
    {
     "name": "stdout",
     "output_type": "stream",
     "text": [
      "My reply is no\n"
     ]
    }
   ],
   "source": [
    "#magic8Ball.py\n",
    "import random\n",
    "\n",
    "def getAnswer(answerNumber):\n",
    "    if answerNumber == 1:\n",
    "        return 'It is certain'\n",
    "    elif answerNumber == 2:\n",
    "        return 'It is decidedly so'\n",
    "    elif answerNumber == 3:\n",
    "        return 'Yes'\n",
    "    elif answerNumber == 4:\n",
    "        return 'Reply hazy try again'\n",
    "    elif answerNumber == 5:\n",
    "        return 'Ask again later'\n",
    "    elif answerNumber == 6:\n",
    "        return 'Concentrate and ask again'\n",
    "    elif answerNumber == 7:\n",
    "        return 'My reply is no'\n",
    "    elif answerNumber == 8:\n",
    "        return 'Outlook not so good'\n",
    "    elif answerNumber == 9:\n",
    "        return 'Very doubtful'\n",
    "\n",
    "r = random.randint(1, 9)\n",
    "fortune = getAnswer(r)\n",
    "print(fortune)\n",
    "#print(getAnswer(random.randint(1, 9)))"
   ]
  },
  {
   "cell_type": "code",
   "execution_count": 55,
   "id": "c63ab2c2",
   "metadata": {},
   "outputs": [
    {
     "name": "stdout",
     "output_type": "stream",
     "text": [
      "a() starts\n",
      "b() starts\n",
      "c() starts\n",
      "d() starts\n",
      "d() returns\n",
      "c() returns\n",
      "b() returns\n",
      "a() returns\n"
     ]
    }
   ],
   "source": [
    "#abcdCallStack.py\n",
    "def a():\n",
    "    print('a() starts')\n",
    "    b()\n",
    "    print('a() returns')\n",
    "\n",
    "def d():\n",
    "    print('d() starts')\n",
    "    print('d() returns')\n",
    "\n",
    "def c():\n",
    "    print('c() starts')\n",
    "    d()\n",
    "    print('c() returns')\n",
    "\n",
    "def b():\n",
    "    print('b() starts')\n",
    "    c()\n",
    "    print('b() returns')\n",
    "\n",
    "a()"
   ]
  },
  {
   "cell_type": "code",
   "execution_count": 60,
   "id": "57d36227",
   "metadata": {},
   "outputs": [
    {
     "name": "stdout",
     "output_type": "stream",
     "text": [
      "The result of eggs is 31337\n"
     ]
    }
   ],
   "source": [
    "def spam():\n",
    "    eggs = 31337\n",
    "    print(\"The result of eggs is\",eggs)\n",
    "spam()\n"
   ]
  },
  {
   "cell_type": "code",
   "execution_count": null,
   "id": "adfb5dda",
   "metadata": {},
   "outputs": [
    {
     "name": "stdout",
     "output_type": "stream",
     "text": [
      "101 0\n",
      "99\n"
     ]
    }
   ],
   "source": [
    "#Local Scopes Cannot Use Variables in Other Local Scopes\n",
    "def spam():\n",
    "    eggs = 99\n",
    "    bacon()\n",
    "    print(eggs)\n",
    "\n",
    "def bacon():\n",
    "    ham = 101\n",
    "    eggs = 0\n",
    "    #print(ham, eggs)\n",
    "\n",
    "spam()\n"
   ]
  },
  {
   "cell_type": "code",
   "execution_count": 70,
   "id": "2b66e01f",
   "metadata": {},
   "outputs": [
    {
     "name": "stdout",
     "output_type": "stream",
     "text": [
      "42\n"
     ]
    }
   ],
   "source": [
    "#Global Variables Can Be Read from a Local Scope\n",
    "def spam():\n",
    "    print(eggs)\n",
    "eggs = 42\n",
    "spam()\n",
    "#print(eggs)\n"
   ]
  },
  {
   "cell_type": "code",
   "execution_count": 71,
   "id": "c3ab47a9",
   "metadata": {},
   "outputs": [
    {
     "name": "stdout",
     "output_type": "stream",
     "text": [
      "bacon local\n",
      "spam local\n",
      "bacon local\n",
      "global\n"
     ]
    }
   ],
   "source": [
    "#Local and Global Variables with the Same Name\n",
    "def spam():\n",
    "    eggs = 'spam local'\n",
    "    print(eggs)    # prints 'spam local'\n",
    "\n",
    "def bacon():\n",
    "    eggs = 'bacon local'\n",
    "    print(eggs)    # prints 'bacon local'\n",
    "    spam()\n",
    "    print(eggs)    # prints 'bacon local'\n",
    "\n",
    "eggs = 'global'\n",
    "bacon()\n",
    "print(eggs)        # prints 'global'"
   ]
  },
  {
   "cell_type": "code",
   "execution_count": null,
   "id": "bbb7abe8",
   "metadata": {},
   "outputs": [
    {
     "name": "stdout",
     "output_type": "stream",
     "text": [
      "spam\n",
      "spam\n"
     ]
    }
   ],
   "source": [
    "# GLOBAL STATEMENT\n",
    "# globalStatement.py\n",
    "def spam():\n",
    "    global eggs\n",
    "    eggs = 'spam'  # This is the global variable eggs.\n",
    "    print(eggs)    # prints 'spam'\n",
    "    \n",
    "eggs = 'global'  # This is the global variable eggs.\n",
    "spam() \n",
    "print(eggs)  # prints 'spam' because spam() changed the global variable eggs.\n",
    "# The global statement is not needed in this case because the function does not assign a value to eggs.\n"
   ]
  },
  {
   "cell_type": "code",
   "execution_count": null,
   "id": "e691556d",
   "metadata": {},
   "outputs": [
    {
     "name": "stdout",
     "output_type": "stream",
     "text": [
      "spam\n",
      "spam\n"
     ]
    }
   ],
   "source": [
    "# sameNameLocalGlobal.py\n",
    "\n",
    "def spam():\n",
    "   global eggs\n",
    "   eggs = 'spam' # this is the global\n",
    "\n",
    "def bacon():\n",
    "   eggs = 'bacon' # this is a local\n",
    "\n",
    "def ham():\n",
    "   print(eggs) # this is the global\n",
    "\n",
    "eggs = 42 # this is the global\n",
    "spam()\n",
    "print(eggs)"
   ]
  },
  {
   "cell_type": "code",
   "execution_count": 78,
   "id": "17714363",
   "metadata": {},
   "outputs": [
    {
     "name": "stdout",
     "output_type": "stream",
     "text": [
      "spam local\n"
     ]
    }
   ],
   "source": [
    "#sameNameError.py\n",
    "def spam():\n",
    "    #print(eggs) # ERROR!\n",
    "    eggs = 'spam local'\n",
    "    print(eggs) # prints 'spam local'\n",
    "\n",
    "eggs = 'global'\n",
    "spam()"
   ]
  },
  {
   "cell_type": "markdown",
   "id": "42dbf421",
   "metadata": {},
   "source": [
    "# EXCEPTION HANDLING"
   ]
  },
  {
   "cell_type": "code",
   "execution_count": null,
   "id": "b649a994",
   "metadata": {},
   "outputs": [],
   "source": [
    "#zeroDivide.py\n",
    "def spam(divideBy):\n",
    "    return 42 / divideBy\n",
    "\n",
    "print(spam(2))\n",
    "print(spam(12))\n",
    "print(spam(1))\n",
    "print(spam(0)) # ZeroDivisionError: division by zero"
   ]
  }
 ],
 "metadata": {
  "kernelspec": {
   "display_name": "Python 3",
   "language": "python",
   "name": "python3"
  },
  "language_info": {
   "codemirror_mode": {
    "name": "ipython",
    "version": 3
   },
   "file_extension": ".py",
   "mimetype": "text/x-python",
   "name": "python",
   "nbconvert_exporter": "python",
   "pygments_lexer": "ipython3",
   "version": "3.10.11"
  }
 },
 "nbformat": 4,
 "nbformat_minor": 5
}
