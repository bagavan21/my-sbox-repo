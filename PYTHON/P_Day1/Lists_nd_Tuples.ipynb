{
 "cells": [
  {
   "cell_type": "markdown",
   "id": "0dd75a34",
   "metadata": {},
   "source": [
    "# Lists and Tuples"
   ]
  },
  {
   "cell_type": "code",
   "execution_count": 2,
   "id": "d9d02824",
   "metadata": {},
   "outputs": [
    {
     "name": "stdout",
     "output_type": "stream",
     "text": [
      "Index 0 in supplies is: pens\n",
      "Index 1 in supplies is: staplers\n",
      "Index 2 in supplies is: flamethrowers\n",
      "Index 3 in supplies is: binders\n"
     ]
    }
   ],
   "source": [
    "supplies = ['pens', 'staplers', 'flamethrowers', 'binders']\n",
    "for i in range(len(supplies)):\n",
    "    print('Index ' + str(i) + ' in supplies is: ' + supplies[i])"
   ]
  },
  {
   "cell_type": "code",
   "execution_count": 8,
   "id": "a0e10777",
   "metadata": {},
   "outputs": [
    {
     "name": "stdout",
     "output_type": "stream",
     "text": [
      "2\n",
      "4\n"
     ]
    }
   ],
   "source": [
    "list_of_numbers = [1, 2, 3, 4, 5]\n",
    "for number in list_of_numbers:\n",
    "    if number % 2 == 0:\n",
    "        print(number)"
   ]
  },
  {
   "cell_type": "code",
   "execution_count": 1,
   "id": "265e4e25",
   "metadata": {},
   "outputs": [
    {
     "name": "stdout",
     "output_type": "stream",
     "text": [
      "Spam's index spam[0] values: cat\n",
      "Spam's index spam[1] values: bat\n",
      "Spam's index spam[2] values: rat\n",
      "Spam's index spam[3] values: elephant\n"
     ]
    }
   ],
   "source": [
    "spam = ['cat', 'bat', 'rat', 'elephant']\n",
    "print(f\"Spam's index spam[0] values: {spam[0]}\")\n",
    "print(f\"Spam's index spam[1] values: {spam[1]}\")\n",
    "print(f\"Spam's index spam[2] values: {spam[2]}\")\n",
    "print(f\"Spam's index spam[3] values: {spam[3]}\")\n",
    "\n",
    "# CHECKING FOR INDEX OUT OF RANGE\n",
    "# Uncommenting the following line will raise an IndexError\n",
    "#print(f\"Spam's index spam[-1] values: {spam[4]}\") # This will raise an IndexError"
   ]
  },
  {
   "cell_type": "code",
   "execution_count": 18,
   "id": "2a2b91e2",
   "metadata": {},
   "outputs": [
    {
     "data": {
      "text/plain": [
       "['cat', 'bat']"
      ]
     },
     "execution_count": 18,
     "metadata": {},
     "output_type": "execute_result"
    }
   ],
   "source": [
    "spam = [['cat', 'bat'], [10, 20, 30, 40, 50]]\n",
    "spam[0] # spam[1] spam[0][1]"
   ]
  },
  {
   "cell_type": "code",
   "execution_count": 2,
   "id": "33acedd7",
   "metadata": {},
   "outputs": [
    {
     "name": "stdout",
     "output_type": "stream",
     "text": [
      "32\n"
     ]
    }
   ],
   "source": [
    "number = 27\n",
    "power_of_two = 1\n",
    "\n",
    "while power_of_two <= number:\n",
    "    power_of_two *= 2\n",
    "\n",
    "print(power_of_two)"
   ]
  },
  {
   "cell_type": "code",
   "execution_count": 17,
   "id": "3dc0f5d7",
   "metadata": {},
   "outputs": [
    {
     "name": "stdout",
     "output_type": "stream",
     "text": [
      "32,36,40,44,48,52,56,60,64,68,72,76,"
     ]
    }
   ],
   "source": [
    "#Print all numbers between 30 to 80 that are divisible by 4\n",
    "for i in range(30,80):\n",
    "    if i % 4 == 0:\n",
    "        print(i,end=',')\n",
    "\n"
   ]
  },
  {
   "cell_type": "code",
   "execution_count": 12,
   "id": "fbdf084e",
   "metadata": {},
   "outputs": [
    {
     "name": "stdout",
     "output_type": "stream",
     "text": [
      "15\n",
      "17\n",
      "19\n",
      "21\n",
      "23\n",
      "25\n",
      "27\n",
      "29\n"
     ]
    }
   ],
   "source": [
    "#Print the first 8 odd numbers starting from 15\n",
    "for i in range(15, 15 + 8 * 2, 2):\n",
    "    print(i)"
   ]
  },
  {
   "cell_type": "code",
   "execution_count": 18,
   "id": "cc667510",
   "metadata": {},
   "outputs": [
    {
     "name": "stdout",
     "output_type": "stream",
     "text": [
      "50, 45, 40, 35, 30, 25, 20, 15, 10, "
     ]
    }
   ],
   "source": [
    "#Print the first 8 odd numbers starting from 15\n",
    "#Count backwards from 50 to 10, showing only numbers divisible by 5\n",
    "for i in range(50,9,-5):\n",
    "    print(i, end=', ')\n"
   ]
  },
  {
   "cell_type": "code",
   "execution_count": 19,
   "id": "c50fafeb",
   "metadata": {},
   "outputs": [
    {
     "name": "stdout",
     "output_type": "stream",
     "text": [
      "3, 6, 9, 12, 15, 18, 21, 24, 27, 30, "
     ]
    }
   ],
   "source": [
    "\n",
    "#Find the product of all numbers from 1 to 30 that are divisible by 3\n",
    "for i in range(3,31,3):\n",
    "    print(i, end=', ')"
   ]
  },
  {
   "cell_type": "code",
   "execution_count": 32,
   "id": "8921c664",
   "metadata": {},
   "outputs": [
    {
     "name": "stdout",
     "output_type": "stream",
     "text": [
      "********\n",
      "********\n",
      "********\n",
      "********\n",
      "********\n"
     ]
    }
   ],
   "source": [
    "def print_pattern(rows, cols):\n",
    "    # Write your code here\n",
    "    for i in range(rows):  \n",
    "        for j in range(cols):\n",
    "            print('*', end='')\n",
    "        print()  # Move to the next line after printing all columns\n",
    "pass\n",
    "\n",
    "# Get input for rows and columns\n",
    "rows = 5 #int(input())\n",
    "cols = 8 #int(input())\n",
    "\n",
    "# Call the function\n",
    "print_pattern(rows, cols)"
   ]
  },
  {
   "cell_type": "code",
   "execution_count": 39,
   "id": "75aeb8fd",
   "metadata": {},
   "outputs": [
    {
     "name": "stdout",
     "output_type": "stream",
     "text": [
      "1 10\n",
      "2 5\n",
      "5 2\n",
      "10 1\n",
      "\n"
     ]
    }
   ],
   "source": [
    "#show all possible combinations\n",
    "n = int(input())\n",
    "# Write your code below\n",
    "def product_pairs(n):\n",
    "    for i in range(1,n+1):\n",
    "        for j in range(1,n+1):\n",
    "            if i * j == n:\n",
    "                print(i,j)\n",
    "    print()\n",
    "product_pairs(n)"
   ]
  }
 ],
 "metadata": {
  "kernelspec": {
   "display_name": "Python 3",
   "language": "python",
   "name": "python3"
  },
  "language_info": {
   "codemirror_mode": {
    "name": "ipython",
    "version": 3
   },
   "file_extension": ".py",
   "mimetype": "text/x-python",
   "name": "python",
   "nbconvert_exporter": "python",
   "pygments_lexer": "ipython3",
   "version": "3.10.11"
  }
 },
 "nbformat": 4,
 "nbformat_minor": 5
}
