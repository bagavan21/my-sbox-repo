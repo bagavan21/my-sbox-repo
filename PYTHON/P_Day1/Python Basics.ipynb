{
 "cells": [
  {
   "cell_type": "markdown",
   "id": "d0489971",
   "metadata": {},
   "source": [
    "#################################################\n",
    "# Learn basics of PYTHON ########################\n",
    "#################################################"
   ]
  },
  {
   "cell_type": "code",
   "execution_count": 1,
   "id": "6ca67156",
   "metadata": {},
   "outputs": [
    {
     "name": "stdout",
     "output_type": "stream",
     "text": [
      "The value of c is: 30\n"
     ]
    }
   ],
   "source": [
    "a=10\n",
    "b=20\n",
    "c =a+b\n",
    "print(\"The value of c is:\",c)"
   ]
  },
  {
   "cell_type": "code",
   "execution_count": 2,
   "id": "8a692096",
   "metadata": {},
   "outputs": [
    {
     "name": "stdout",
     "output_type": "stream",
     "text": [
      "<class 'str'>\n"
     ]
    }
   ],
   "source": [
    "# syntax\n",
    "# variable_name = value\n",
    "# variable_name = expression\n",
    "# variable_name = expression + expression\n",
    "\n",
    "name = \"Bagavan\"\n",
    "\n",
    "name2 = 'Bagavan'\n",
    "\n",
    "check = type(name)\n",
    "\n",
    "check2 = type(name2)\n",
    "\n",
    "print(check2)"
   ]
  },
  {
   "cell_type": "code",
   "execution_count": 3,
   "id": "e89c6d21",
   "metadata": {},
   "outputs": [
    {
     "name": "stdout",
     "output_type": "stream",
     "text": [
      "5\n"
     ]
    }
   ],
   "source": [
    "a = 2 + 3\n",
    "print(a)"
   ]
  },
  {
   "cell_type": "code",
   "execution_count": 4,
   "id": "fd171be7",
   "metadata": {},
   "outputs": [
    {
     "name": "stdout",
     "output_type": "stream",
     "text": [
      "30\n"
     ]
    }
   ],
   "source": [
    "a = (2 + 3) * 6\n",
    "print(a)"
   ]
  },
  {
   "cell_type": "code",
   "execution_count": 5,
   "id": "3f15b4d1",
   "metadata": {},
   "outputs": [
    {
     "name": "stdout",
     "output_type": "stream",
     "text": [
      "256\n"
     ]
    }
   ],
   "source": [
    "a =  2 ** 8\n",
    "print(a)"
   ]
  },
  {
   "cell_type": "code",
   "execution_count": 6,
   "id": "00c4a91b",
   "metadata": {},
   "outputs": [
    {
     "name": "stdout",
     "output_type": "stream",
     "text": [
      "3.2857142857142856\n",
      "3\n"
     ]
    }
   ],
   "source": [
    "a = 23 / 7\n",
    "print(a)\n",
    "\n",
    "b = 23 // 7\n",
    "print(b)"
   ]
  },
  {
   "cell_type": "code",
   "execution_count": 7,
   "id": "7f512039",
   "metadata": {},
   "outputs": [
    {
     "name": "stdout",
     "output_type": "stream",
     "text": [
      "2\n",
      "4\n",
      "16.0\n"
     ]
    }
   ],
   "source": [
    "a = 23 % 7\n",
    "print(a)\n",
    "\n",
    "b = 2 + 2\n",
    "print(b)\n",
    "\n",
    "c = (5 - 1) * ((7 + 1) / (3 - 1))\n",
    "print(c)"
   ]
  },
  {
   "cell_type": "code",
   "execution_count": 8,
   "id": "bde72873",
   "metadata": {},
   "outputs": [
    {
     "name": "stdout",
     "output_type": "stream",
     "text": [
      "AliceBob\n",
      "AliceAliceAliceAliceAliceAliceAliceAliceAliceAliceAliceAliceAliceAliceAliceAliceAliceAliceAliceAliceAliceAliceAliceAliceAliceAliceAliceAliceAliceAliceAliceAliceAliceAliceAliceAliceAliceAliceAliceAliceAliceAlice\n"
     ]
    }
   ],
   "source": [
    "text = 'Alice' + 'Bob'\n",
    "print(text)\n",
    "\n",
    "text2 = 'Alice' * 42\n",
    "print(text2)"
   ]
  },
  {
   "cell_type": "code",
   "execution_count": 9,
   "id": "b069c76f",
   "metadata": {},
   "outputs": [
    {
     "name": "stdout",
     "output_type": "stream",
     "text": [
      "AliceAliceAliceAliceAlice\n"
     ]
    }
   ],
   "source": [
    "text = 'Alice' * 5\n",
    "print(text)"
   ]
  },
  {
   "cell_type": "code",
   "execution_count": 10,
   "id": "0d0223d7",
   "metadata": {},
   "outputs": [
    {
     "name": "stdout",
     "output_type": "stream",
     "text": [
      "20\n",
      "72\n"
     ]
    }
   ],
   "source": [
    "Alice = 20\n",
    "print(Alice)\n",
    "age = 42\n",
    "myage = Alice + age\n",
    "Aged = myage + 10\n",
    "print(Aged)"
   ]
  },
  {
   "cell_type": "code",
   "execution_count": 11,
   "id": "991f62e5",
   "metadata": {},
   "outputs": [
    {
     "name": "stdout",
     "output_type": "stream",
     "text": [
      "Hello\n"
     ]
    }
   ],
   "source": [
    "spam = 'Hello'\n",
    "print(spam)"
   ]
  },
  {
   "cell_type": "code",
   "execution_count": 12,
   "id": "ee90ffad",
   "metadata": {},
   "outputs": [
    {
     "name": "stdout",
     "output_type": "stream",
     "text": [
      "Good bye\n"
     ]
    }
   ],
   "source": [
    "spam ='Good bye'\n",
    "print(spam)"
   ]
  },
  {
   "cell_type": "code",
   "execution_count": 13,
   "id": "28d29aca",
   "metadata": {},
   "outputs": [
    {
     "name": "stdout",
     "output_type": "stream",
     "text": [
      "Hello, world!\n",
      "What is your name?\n",
      "It is good to meet you, Bagavan\n",
      "The length of your name is:\n",
      "7\n",
      "What is your age?\n",
      "You will be 50 in a year.\n"
     ]
    }
   ],
   "source": [
    "# This program says hello and asks for my name.\n",
    "\n",
    "print('Hello, world!')\n",
    "print('What is your name?')    # ask for their name\n",
    "myName = input()\n",
    "print('It is good to meet you,', myName)\n",
    "print('The length of your name is:')\n",
    "print(len(myName))\n",
    "print('What is your age?')    # ask for their age\n",
    "myAge = input()\n",
    "print('You will be ' + str(int(myAge) + 1) + ' in a year.')"
   ]
  },
  {
   "cell_type": "code",
   "execution_count": 14,
   "id": "45c0be80",
   "metadata": {},
   "outputs": [
    {
     "name": "stdout",
     "output_type": "stream",
     "text": [
      "I am Bagavan 40 years old.\n",
      "\n",
      "\n",
      "7\n",
      "0\n",
      "This is Beckenrose Crt1 Street and 2 building\n",
      "40\n"
     ]
    }
   ],
   "source": [
    "# First, we import the random module\n",
    "''' my name is bagavan  \n",
    "    my name is bagavan  \n",
    "    my name is bagavan  \n",
    "    my name is bagavan'''\n",
    "\n",
    "myname = 'Bagavan'\n",
    "\n",
    "print('I am ' + myname + ' 40 years old.')\n",
    "print()\n",
    "\n",
    "print()\n",
    "\n",
    "myname_len = len(myname)\n",
    "print(myname_len)\n",
    "print(len(''))\n",
    "print('This is Beckenrose Crt' + str(1) + ' Street and ' + str(2) + ' building')\n",
    "\n",
    "spam = input()\n",
    "print(spam)\n"
   ]
  },
  {
   "cell_type": "code",
   "execution_count": 15,
   "id": "595820aa",
   "metadata": {},
   "outputs": [
    {
     "data": {
      "text/plain": [
       "40"
      ]
     },
     "execution_count": 15,
     "metadata": {},
     "output_type": "execute_result"
    }
   ],
   "source": [
    "spam = int(spam)\n",
    "spam"
   ]
  },
  {
   "cell_type": "code",
   "execution_count": 16,
   "id": "883234e1",
   "metadata": {},
   "outputs": [
    {
     "name": "stdout",
     "output_type": "stream",
     "text": [
      "80.0\n",
      "10\n"
     ]
    }
   ],
   "source": [
    "ans = spam * 10/5\n",
    "\n",
    "print(ans)\n",
    "\n",
    "a = int(8.9) + 2\n",
    "print(a)"
   ]
  },
  {
   "cell_type": "code",
   "execution_count": 17,
   "id": "93f4c0a6",
   "metadata": {},
   "outputs": [
    {
     "name": "stdout",
     "output_type": "stream",
     "text": [
      "spamspamspam\n",
      "spamspamspam\n",
      "40\n"
     ]
    }
   ],
   "source": [
    "becon = 'spam' + 'spamspam'\n",
    "print(becon)\n",
    "'spam' * 3\n",
    "print(becon)\n",
    "_q = 40\n",
    "print(_q)"
   ]
  },
  {
   "cell_type": "code",
   "execution_count": 18,
   "id": "c2db7c32",
   "metadata": {},
   "outputs": [
    {
     "name": "stdout",
     "output_type": "stream",
     "text": [
      "I have eaten 99 burritos.\n"
     ]
    }
   ],
   "source": [
    "test = 'I have eaten ' + str(99) + ' burritos.'\n",
    "print(test)"
   ]
  },
  {
   "cell_type": "code",
   "execution_count": 19,
   "id": "96689edc",
   "metadata": {},
   "outputs": [
    {
     "name": "stdout",
     "output_type": "stream",
     "text": [
      "['ArithmeticError', 'AssertionError', 'AttributeError', 'BaseException', 'BlockingIOError', 'BrokenPipeError', 'BufferError', 'BytesWarning', 'ChildProcessError', 'ConnectionAbortedError', 'ConnectionError', 'ConnectionRefusedError', 'ConnectionResetError', 'DeprecationWarning', 'EOFError', 'Ellipsis', 'EncodingWarning', 'EnvironmentError', 'Exception', 'False', 'FileExistsError', 'FileNotFoundError', 'FloatingPointError', 'FutureWarning', 'GeneratorExit', 'IOError', 'ImportError', 'ImportWarning', 'IndentationError', 'IndexError', 'InterruptedError', 'IsADirectoryError', 'KeyError', 'KeyboardInterrupt', 'LookupError', 'MemoryError', 'ModuleNotFoundError', 'NameError', 'None', 'NotADirectoryError', 'NotImplemented', 'NotImplementedError', 'OSError', 'OverflowError', 'PendingDeprecationWarning', 'PermissionError', 'ProcessLookupError', 'RecursionError', 'ReferenceError', 'ResourceWarning', 'RuntimeError', 'RuntimeWarning', 'StopAsyncIteration', 'StopIteration', 'SyntaxError', 'SyntaxWarning', 'SystemError', 'SystemExit', 'TabError', 'TimeoutError', 'True', 'TypeError', 'UnboundLocalError', 'UnicodeDecodeError', 'UnicodeEncodeError', 'UnicodeError', 'UnicodeTranslateError', 'UnicodeWarning', 'UserWarning', 'ValueError', 'Warning', 'WindowsError', 'ZeroDivisionError', '__IPYTHON__', '__build_class__', '__debug__', '__doc__', '__import__', '__loader__', '__name__', '__package__', '__spec__', 'abs', 'aiter', 'all', 'anext', 'any', 'ascii', 'bin', 'bool', 'breakpoint', 'bytearray', 'bytes', 'callable', 'chr', 'classmethod', 'compile', 'complex', 'copyright', 'credits', 'delattr', 'dict', 'dir', 'display', 'divmod', 'enumerate', 'eval', 'exec', 'execfile', 'filter', 'float', 'format', 'frozenset', 'get_ipython', 'getattr', 'globals', 'hasattr', 'hash', 'help', 'hex', 'id', 'input', 'int', 'isinstance', 'issubclass', 'iter', 'len', 'license', 'list', 'locals', 'map', 'max', 'memoryview', 'min', 'next', 'object', 'oct', 'open', 'ord', 'pow', 'print', 'property', 'range', 'repr', 'reversed', 'round', 'runfile', 'set', 'setattr', 'slice', 'sorted', 'staticmethod', 'str', 'sum', 'super', 'tuple', 'type', 'vars', 'zip']\n"
     ]
    }
   ],
   "source": [
    "print(dir(__builtins__))"
   ]
  }
 ],
 "metadata": {
  "kernelspec": {
   "display_name": "Python 3",
   "language": "python",
   "name": "python3"
  },
  "language_info": {
   "codemirror_mode": {
    "name": "ipython",
    "version": 3
   },
   "file_extension": ".py",
   "mimetype": "text/x-python",
   "name": "python",
   "nbconvert_exporter": "python",
   "pygments_lexer": "ipython3",
   "version": "3.10.11"
  }
 },
 "nbformat": 4,
 "nbformat_minor": 5
}
