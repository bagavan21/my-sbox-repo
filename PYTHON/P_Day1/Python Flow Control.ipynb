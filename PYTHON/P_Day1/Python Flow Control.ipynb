{
 "cells": [
  {
   "cell_type": "markdown",
   "id": "038aa394",
   "metadata": {},
   "source": [
    "#################################################\n",
    "# Flow Controls of PYTHON #######################\n",
    "#################################################"
   ]
  },
  {
   "cell_type": "code",
   "execution_count": 40,
   "id": "a111eecf",
   "metadata": {},
   "outputs": [
    {
     "name": "stdout",
     "output_type": "stream",
     "text": [
      "Spam is True\n",
      "Val is False\n"
     ]
    }
   ],
   "source": [
    "spam = True\n",
    "print(\"Spam is\", spam)\n",
    "\n",
    "val = 2 > 3  # This will raise a SyntaxError in Python 3.8 and later\n",
    "print(\"Val is\", val)  # This line will not be executed"
   ]
  },
  {
   "cell_type": "markdown",
   "id": "6a47c9a5",
   "metadata": {},
   "source": [
    "# Comparison operators"
   ]
  },
  {
   "cell_type": "code",
   "execution_count": 41,
   "id": "09eda5ad",
   "metadata": {},
   "outputs": [
    {
     "name": "stdout",
     "output_type": "stream",
     "text": [
      "40 == 40 is True\n",
      "40 != 40 is False\n",
      "40 != 39 is True\n",
      "40  > 29 is True\n",
      "40  < 29 is False\n",
      "40 >= 40 is True\n",
      "40 <= 40 is True\n"
     ]
    }
   ],
   "source": [
    "\n",
    "print(\"40 == 40 is\", 40 == 40)  \n",
    "print(\"40 != 40 is\", 40 != 40)  \n",
    "print(\"40 != 39 is\", 40 != 39)  \n",
    "print(\"40  > 29 is\" , 40 > 29)  \n",
    "print(\"40  < 29 is\" , 40 < 29)  \n",
    "print(\"40 >= 40 is\", 40 >= 40)  \n",
    "print(\"40 <= 40 is\", 40 <= 40)  "
   ]
  },
  {
   "cell_type": "code",
   "execution_count": 42,
   "id": "6947ec0b",
   "metadata": {},
   "outputs": [
    {
     "name": "stdout",
     "output_type": "stream",
     "text": [
      "'hello' == 'hello' is True\n",
      "'hello' == 'Hello' is False\n"
     ]
    }
   ],
   "source": [
    "'hello' == 'hello'\n",
    "print(\"'hello' == 'hello' is\", 'hello' == 'hello')  \n",
    "'hello' == 'Hello'                     # Capital 'H' makes it different\n",
    "print(\"'hello' == 'Hello' is\", 'hello' == 'Hello')  "
   ]
  },
  {
   "cell_type": "code",
   "execution_count": 43,
   "id": "7f9b5e6c",
   "metadata": {},
   "outputs": [
    {
     "data": {
      "text/plain": [
       "True"
      ]
     },
     "execution_count": 43,
     "metadata": {},
     "output_type": "execute_result"
    }
   ],
   "source": [
    "(4 < 5) and (5 < 6)\n",
    "\n",
    "2 + 2 == 4 and not 2 + 2 == 5 and 2 * 2 == 2 + 2"
   ]
  },
  {
   "cell_type": "markdown",
   "id": "d3762922",
   "metadata": {},
   "source": [
    "# Control Statements"
   ]
  },
  {
   "cell_type": "code",
   "execution_count": 44,
   "id": "1d3faab7",
   "metadata": {},
   "outputs": [
    {
     "name": "stdout",
     "output_type": "stream",
     "text": [
      "Hello, Alice\n",
      "Access granted.\n"
     ]
    }
   ],
   "source": [
    "name = 'Alice'\n",
    "age = 13\n",
    "password = 'swordfish'\n",
    "if name == 'Alice':\n",
    "    print('Hello, Alice')\n",
    "    if password == 'swordfish':\n",
    "        print('Access granted.')\n",
    "    else:\n",
    "        print('Wrong password.')"
   ]
  },
  {
   "cell_type": "code",
   "execution_count": 45,
   "id": "ea0070a3",
   "metadata": {},
   "outputs": [
    {
     "name": "stdout",
     "output_type": "stream",
     "text": [
      "You are not Alice, grannie.\n"
     ]
    }
   ],
   "source": [
    "name = 'Carol'\n",
    "age = 3000\n",
    "if name == 'Alice':\n",
    "    print('Hi, Alice.')\n",
    "elif age < 12:\n",
    "    print('You are not Alice, kiddo.')\n",
    "elif age > 100:\n",
    "    print('You are not Alice, grannie.')\n",
    "elif age > 2000:\n",
    "    print('Unlike you, Alice is not an undead, immortal vampire.')"
   ]
  },
  {
   "cell_type": "code",
   "execution_count": 46,
   "id": "63eccb02",
   "metadata": {},
   "outputs": [
    {
     "name": "stdout",
     "output_type": "stream",
     "text": [
      "You are neither Alice nor a little kid.\n"
     ]
    }
   ],
   "source": [
    "name = 'Carol'\n",
    "age = 3000\n",
    "if name == 'Alice':\n",
    "    print('Hi, Alice.')\n",
    "elif age < 12:\n",
    "    print('You are not Alice, kiddo.')\n",
    "else:\n",
    "    print('You are neither Alice nor a little kid.')"
   ]
  },
  {
   "cell_type": "markdown",
   "id": "172aa952",
   "metadata": {},
   "source": [
    "# Compare IF vs WHILE loop"
   ]
  },
  {
   "cell_type": "code",
   "execution_count": 47,
   "id": "4f6985d6",
   "metadata": {},
   "outputs": [
    {
     "name": "stdout",
     "output_type": "stream",
     "text": [
      "Hello, world.\n"
     ]
    }
   ],
   "source": [
    "spam = 0\n",
    "if spam < 5:\n",
    "    print('Hello, world.')\n",
    "    spam = spam + 1"
   ]
  },
  {
   "cell_type": "code",
   "execution_count": 48,
   "id": "589f8036",
   "metadata": {},
   "outputs": [
    {
     "name": "stdout",
     "output_type": "stream",
     "text": [
      "Spam is 0\n",
      "Spam is 1\n",
      "Spam is 2\n",
      "Spam is 3\n",
      "Spam is 4\n"
     ]
    }
   ],
   "source": [
    "spam = 0\n",
    "while spam < 5:\n",
    "    print('Spam is', spam)\n",
    "    spam = spam + 1\n"
   ]
  },
  {
   "cell_type": "markdown",
   "id": "fc339748",
   "metadata": {},
   "source": [
    "# WHILE Loop"
   ]
  },
  {
   "cell_type": "code",
   "execution_count": null,
   "id": "d85c1a55",
   "metadata": {},
   "outputs": [],
   "source": [
    "# Sample Infinite Loop\n",
    "\n",
    "while True:\n",
    "    print('Hello, world!')\n",
    "    #break  # This will exit the loop after one iteration"
   ]
  },
  {
   "cell_type": "code",
   "execution_count": null,
   "id": "02fb250f",
   "metadata": {},
   "outputs": [],
   "source": [
    "name = ''\n",
    "while name != 'your name':\n",
    "    print('Please type your name.')\n",
    "    name = input()\n",
    "    print('Thank you!') "
   ]
  },
  {
   "cell_type": "code",
   "execution_count": null,
   "id": "2cd4f90e",
   "metadata": {},
   "outputs": [
    {
     "name": "stdout",
     "output_type": "stream",
     "text": [
      "Please type your name.\n",
      "Thank you!\n"
     ]
    }
   ],
   "source": [
    "# BREAK STATEMENT\n",
    "# The break statement is used to exit a loop immediately.\n",
    "while True:\n",
    "    print('Please type your name.')\n",
    "    name = input()\n",
    "    if name == 'your name':\n",
    "        break\n",
    "print('Thank you!')"
   ]
  },
  {
   "cell_type": "code",
   "execution_count": null,
   "id": "bdc399f9",
   "metadata": {},
   "outputs": [
    {
     "name": "stdout",
     "output_type": "stream",
     "text": [
      "Who are you?\n",
      "Hello, Joe. What is the password? (It is a fish.)\n",
      "Access granted.\n"
     ]
    }
   ],
   "source": [
    "while True:\n",
    "      print('Who are you?')\n",
    "      name = input()\n",
    "      if name != 'Joe':\n",
    "          continue\n",
    "      print('Hello, Joe. What is the password? (It is a fish.)')\n",
    "      password = input()\n",
    "      if password == 'swordfish':\n",
    "          break\n",
    "print('Access granted.')    "
   ]
  },
  {
   "cell_type": "code",
   "execution_count": null,
   "id": "9b4448f2",
   "metadata": {},
   "outputs": [
    {
     "name": "stdout",
     "output_type": "stream",
     "text": [
      "Enter your name:\n",
      "Enter your name:\n",
      "Enter your name:\n",
      "Enter your name:\n",
      "How many guests will you have?\n",
      "Done\n"
     ]
    }
   ],
   "source": [
    "# TRUETHY AND FALSY VALUES\n",
    "# In Python, the following values are considered false:\n",
    "# - None\n",
    "name = ''\n",
    "while not name:\n",
    "    print('Enter your name:')\n",
    "    name = input()\n",
    "print('How many guests will you have?')\n",
    "numOfGuests = int(input())\n",
    "if numOfGuests:\n",
    "    print('Be sure to have enough room for all your guests.')\n",
    "print('Done')"
   ]
  },
  {
   "cell_type": "markdown",
   "id": "c75d79ef",
   "metadata": {},
   "source": [
    "# FOR Loop"
   ]
  },
  {
   "cell_type": "code",
   "execution_count": null,
   "id": "a9deb600",
   "metadata": {},
   "outputs": [
    {
     "name": "stdout",
     "output_type": "stream",
     "text": [
      "My name is\n",
      "Jimmy Five Times (0)\n",
      "Jimmy Five Times (1)\n",
      "Jimmy Five Times (2)\n",
      "Jimmy Five Times (3)\n",
      "Jimmy Five Times (4)\n"
     ]
    }
   ],
   "source": [
    "print('My name is')\n",
    "for i in range(5):\n",
    "    print('Jimmy Five Times (' + str(i) + ')')"
   ]
  },
  {
   "cell_type": "code",
   "execution_count": null,
   "id": "728cb859",
   "metadata": {},
   "outputs": [
    {
     "name": "stdout",
     "output_type": "stream",
     "text": [
      "Jimmy Five Times (0)\n",
      "Jimmy Five Times (1)\n",
      "Jimmy Five Times (2)\n",
      "Jimmy Five Times (3)\n",
      "Jimmy Five Times (4)\n"
     ]
    }
   ],
   "source": [
    "i = 0\n",
    "while i < 5:\n",
    "    print('Jimmy Five Times (' + str(i) + ')')\n",
    "    i = i + 1"
   ]
  },
  {
   "cell_type": "code",
   "execution_count": null,
   "id": "3ed07d8f",
   "metadata": {},
   "outputs": [
    {
     "name": "stdout",
     "output_type": "stream",
     "text": [
      "The total is 5050\n"
     ]
    }
   ],
   "source": [
    "# Add 1-100 numbers\n",
    "total = 0\n",
    "for num in range(101):\n",
    "    total = total + num\n",
    "print('The total is', total)"
   ]
  },
  {
   "cell_type": "code",
   "execution_count": null,
   "id": "afdf6a12",
   "metadata": {},
   "outputs": [
    {
     "name": "stdout",
     "output_type": "stream",
     "text": [
      "11\n",
      "12\n",
      "13\n",
      "14\n",
      "15\n"
     ]
    }
   ],
   "source": [
    "# 1-5 range\n",
    "for i in range(11, 16):\n",
    "    print(i)"
   ]
  },
  {
   "cell_type": "code",
   "execution_count": null,
   "id": "42a4bb28",
   "metadata": {},
   "outputs": [
    {
     "name": "stdout",
     "output_type": "stream",
     "text": [
      "1\n",
      "2\n",
      "3\n",
      "4\n",
      "5\n"
     ]
    }
   ],
   "source": [
    "#range with 3 arguments\n",
    "for i in range(1, 6, 1):\n",
    "    print(i)"
   ]
  },
  {
   "cell_type": "code",
   "execution_count": 57,
   "id": "75947697",
   "metadata": {},
   "outputs": [
    {
     "name": "stdout",
     "output_type": "stream",
     "text": [
      "0\n",
      "2\n",
      "4\n",
      "6\n",
      "8\n",
      "10\n"
     ]
    }
   ],
   "source": [
    "#range with 3 arguments\n",
    "for i in range(0, 11, 2):\n",
    "    print(i)"
   ]
  },
  {
   "cell_type": "code",
   "execution_count": 55,
   "id": "7b1f2a0f",
   "metadata": {},
   "outputs": [
    {
     "name": "stdout",
     "output_type": "stream",
     "text": [
      "10\n",
      "9\n",
      "8\n",
      "7\n",
      "6\n",
      "5\n",
      "4\n",
      "3\n",
      "2\n",
      "1\n",
      "0\n"
     ]
    }
   ],
   "source": [
    "#range with 3 arguments\n",
    "for i in range(10, -1, -1):\n",
    "    print(i)"
   ]
  },
  {
   "cell_type": "code",
   "execution_count": 59,
   "id": "b8d715df",
   "metadata": {},
   "outputs": [
    {
     "name": "stdout",
     "output_type": "stream",
     "text": [
      "5\n",
      "4\n",
      "3\n",
      "2\n",
      "1\n",
      "0\n"
     ]
    }
   ],
   "source": [
    "for i in range(5, -1, -1):\n",
    "    print(i)"
   ]
  },
  {
   "cell_type": "code",
   "execution_count": 60,
   "id": "9b53a132",
   "metadata": {},
   "outputs": [
    {
     "name": "stdout",
     "output_type": "stream",
     "text": [
      "The sum of numbers from 1 to 100 is 5050\n"
     ]
    }
   ],
   "source": [
    "sum_of_numbers = 0\n",
    "for i in range(1, 101):\n",
    "    sum_of_numbers += i\n",
    "print('The sum of numbers from 1 to 100 is', sum_of_numbers)"
   ]
  }
 ],
 "metadata": {
  "kernelspec": {
   "display_name": "Python 3",
   "language": "python",
   "name": "python3"
  },
  "language_info": {
   "codemirror_mode": {
    "name": "ipython",
    "version": 3
   },
   "file_extension": ".py",
   "mimetype": "text/x-python",
   "name": "python",
   "nbconvert_exporter": "python",
   "pygments_lexer": "ipython3",
   "version": "3.10.11"
  }
 },
 "nbformat": 4,
 "nbformat_minor": 5
}
